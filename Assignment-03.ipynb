{
 "cells": [
  {
   "cell_type": "code",
   "execution_count": 8,
   "id": "e2e7d396-c3f7-4b3f-ad12-84f8ede76d5e",
   "metadata": {},
   "outputs": [],
   "source": [
    "#def keyword is used to declare a function\n",
    "def odd():\n",
    "    l=[]\n",
    "    for i in range(1,26):\n",
    "        if(i&1):\n",
    "            l.append(i)\n",
    "    return l       "
   ]
  },
  {
   "cell_type": "code",
   "execution_count": 9,
   "id": "89016ef6-647f-4d1a-90d1-c0c986388f43",
   "metadata": {},
   "outputs": [],
   "source": [
    "odd_list=odd()"
   ]
  },
  {
   "cell_type": "code",
   "execution_count": 10,
   "id": "0e427900-6e6c-4ba1-a49f-5678041e4434",
   "metadata": {},
   "outputs": [
    {
     "name": "stdout",
     "output_type": "stream",
     "text": [
      "1\n",
      "3\n",
      "5\n",
      "7\n",
      "9\n",
      "11\n",
      "13\n",
      "15\n",
      "17\n",
      "19\n",
      "21\n",
      "23\n",
      "25\n"
     ]
    }
   ],
   "source": [
    "for i in odd_list:\n",
    "    print(i)"
   ]
  },
  {
   "cell_type": "code",
   "execution_count": 11,
   "id": "e53416cb-d20d-4211-9eaa-4b7eb879dbd1",
   "metadata": {},
   "outputs": [],
   "source": [
    "#q2)\n",
    "#*args is used to take dynamic number of inputs which not need to be fixed at compile time\n",
    "#**kwargs is used to take dynamic number of inputs in the form of key value pairs which not need to be fixed at compile time\n",
    "def test(*args):\n",
    "    return args\n"
   ]
  },
  {
   "cell_type": "code",
   "execution_count": 12,
   "id": "991c678b-b9b8-4818-a73b-0a8b261782ac",
   "metadata": {},
   "outputs": [
    {
     "data": {
      "text/plain": [
       "(1, 2, 'feefwea')"
      ]
     },
     "execution_count": 12,
     "metadata": {},
     "output_type": "execute_result"
    }
   ],
   "source": [
    "test(1,2,\"feefwea\")"
   ]
  },
  {
   "cell_type": "code",
   "execution_count": 16,
   "id": "1ffdafbd-3935-4172-b511-651daa702dfb",
   "metadata": {},
   "outputs": [],
   "source": [
    "def test2(**kwargs):\n",
    "    return kwargs"
   ]
  },
  {
   "cell_type": "code",
   "execution_count": 18,
   "id": "e5993ffb-df77-49cf-9210-d81b23875b41",
   "metadata": {},
   "outputs": [
    {
     "data": {
      "text/plain": [
       "{'first': 'harsh', 'second': 'arora'}"
      ]
     },
     "execution_count": 18,
     "metadata": {},
     "output_type": "execute_result"
    }
   ],
   "source": [
    "test2(first='harsh',second='arora')"
   ]
  },
  {
   "cell_type": "code",
   "execution_count": 19,
   "id": "0ccc3a4d-5e6a-40c7-8edc-1ed4386731c5",
   "metadata": {},
   "outputs": [],
   "source": [
    "#q3)\n",
    "#An iterator is an object that allows you to iterate over collections of data, such as lists, tuples and dictionaries.\n",
    "#Iterators are initialized using the iter() method. It uses the next() method for iteration."
   ]
  },
  {
   "cell_type": "code",
   "execution_count": 20,
   "id": "de8a4637-abcf-463b-bc64-0b3341631446",
   "metadata": {},
   "outputs": [],
   "source": [
    "l=[2, 4, 6, 8, 10, 12, 14,16, 18, 20]"
   ]
  },
  {
   "cell_type": "code",
   "execution_count": 21,
   "id": "cce21a4b-ab45-479b-b299-8d32ac2107a0",
   "metadata": {},
   "outputs": [],
   "source": [
    "l1=iter(l)"
   ]
  },
  {
   "cell_type": "code",
   "execution_count": 22,
   "id": "fb189336-87ea-42b3-a471-fad5d2475cb9",
   "metadata": {},
   "outputs": [
    {
     "name": "stdout",
     "output_type": "stream",
     "text": [
      "2\n",
      "4\n",
      "6\n",
      "8\n",
      "10\n",
      "12\n",
      "14\n",
      "16\n",
      "18\n",
      "20\n"
     ]
    }
   ],
   "source": [
    "for i in range(10):\n",
    "    print(next(l1))"
   ]
  },
  {
   "cell_type": "code",
   "execution_count": 23,
   "id": "66ce740e-7d6b-4f77-88e8-9a8cc5e86a63",
   "metadata": {},
   "outputs": [],
   "source": [
    "#q4)\n",
    "#A generator-function is a function that generates a value using the yield keyword rather than return."
   ]
  },
  {
   "cell_type": "code",
   "execution_count": 24,
   "id": "1c0a1a44-e32c-4f1d-9901-617a23ae8aea",
   "metadata": {},
   "outputs": [],
   "source": [
    "#yield keyword is used to return the value in generator function"
   ]
  },
  {
   "cell_type": "code",
   "execution_count": 25,
   "id": "2e115c81-f892-4d59-863f-b5ebe486d1db",
   "metadata": {},
   "outputs": [],
   "source": [
    "def test():\n",
    "    for i in range(10):\n",
    "        yield i"
   ]
  },
  {
   "cell_type": "code",
   "execution_count": 26,
   "id": "4ae428e5-60e0-439e-8e5c-408ea1dac8f4",
   "metadata": {},
   "outputs": [
    {
     "name": "stdout",
     "output_type": "stream",
     "text": [
      "0\n",
      "1\n",
      "2\n",
      "3\n",
      "4\n",
      "5\n",
      "6\n",
      "7\n",
      "8\n",
      "9\n"
     ]
    }
   ],
   "source": [
    "for i in test():\n",
    "    print(i)"
   ]
  },
  {
   "cell_type": "code",
   "execution_count": 27,
   "id": "e4523dd4-8b26-4d28-b733-18571e2dc870",
   "metadata": {},
   "outputs": [],
   "source": [
    "op=test()"
   ]
  },
  {
   "cell_type": "code",
   "execution_count": 28,
   "id": "d3b32847-6d5e-4f9e-96a2-d224354a5e2a",
   "metadata": {},
   "outputs": [
    {
     "data": {
      "text/plain": [
       "generator"
      ]
     },
     "execution_count": 28,
     "metadata": {},
     "output_type": "execute_result"
    }
   ],
   "source": [
    "type(op)"
   ]
  },
  {
   "cell_type": "code",
   "execution_count": 29,
   "id": "1ef2fb2b-3108-4b73-9bf2-04a8e477d3af",
   "metadata": {},
   "outputs": [
    {
     "data": {
      "text/plain": [
       "0"
      ]
     },
     "execution_count": 29,
     "metadata": {},
     "output_type": "execute_result"
    }
   ],
   "source": [
    "next(op)"
   ]
  },
  {
   "cell_type": "code",
   "execution_count": 30,
   "id": "2a49ba5d-2804-41b4-a7d7-583bf049ea5f",
   "metadata": {},
   "outputs": [
    {
     "data": {
      "text/plain": [
       "1"
      ]
     },
     "execution_count": 30,
     "metadata": {},
     "output_type": "execute_result"
    }
   ],
   "source": [
    "next(op)"
   ]
  },
  {
   "cell_type": "code",
   "execution_count": 37,
   "id": "8892f3b6-66c7-4a83-8f2e-05d976f83cc8",
   "metadata": {},
   "outputs": [],
   "source": [
    "#q5)\n",
    "def prime(n):\n",
    "    for i in range(2,n):\n",
    "        if n%i==0:\n",
    "            return False\n",
    "    return True\n",
    "def primeYield():\n",
    "    for i in range(2,1000):\n",
    "        if prime(i) == True:\n",
    "            yield i"
   ]
  },
  {
   "cell_type": "code",
   "execution_count": 38,
   "id": "9a319217-78e4-49b2-92bd-2861a0a69945",
   "metadata": {},
   "outputs": [],
   "source": [
    "pl=primeYield()"
   ]
  },
  {
   "cell_type": "code",
   "execution_count": 39,
   "id": "0c407842-5795-4f08-947d-a664e5878cdd",
   "metadata": {},
   "outputs": [
    {
     "name": "stdout",
     "output_type": "stream",
     "text": [
      "2\n",
      "3\n",
      "5\n",
      "7\n",
      "11\n",
      "13\n",
      "17\n",
      "19\n",
      "23\n",
      "29\n",
      "31\n",
      "37\n",
      "41\n",
      "43\n",
      "47\n",
      "53\n",
      "59\n",
      "61\n",
      "67\n",
      "71\n"
     ]
    }
   ],
   "source": [
    "for i in range(20):\n",
    "    print(next(pl))"
   ]
  },
  {
   "cell_type": "code",
   "execution_count": 3,
   "id": "bec8f1a1-cfff-4c56-9755-acff3768fe19",
   "metadata": {},
   "outputs": [
    {
     "name": "stdout",
     "output_type": "stream",
     "text": [
      "0\n",
      "1\n",
      "1\n",
      "2\n",
      "3\n",
      "5\n",
      "8\n",
      "13\n",
      "21\n",
      "34\n"
     ]
    }
   ],
   "source": [
    "#q6)\n",
    "a=0\n",
    "b=1\n",
    "ct=0\n",
    "while True:\n",
    "    print(a)\n",
    "    a,b=b,a+b\n",
    "    ct+=1\n",
    "    if ct>9:\n",
    "        break"
   ]
  },
  {
   "cell_type": "code",
   "execution_count": 11,
   "id": "c4ef33fa-ce99-4ba0-8696-968e8d9297a7",
   "metadata": {},
   "outputs": [],
   "source": [
    "#q7)\n",
    "s=\"pwskiills\"\n"
   ]
  },
  {
   "cell_type": "code",
   "execution_count": 12,
   "id": "30bbbc69-699f-4b73-b02a-58c10fa5da3e",
   "metadata": {},
   "outputs": [],
   "source": [
    "st=list(iter(s))"
   ]
  },
  {
   "cell_type": "code",
   "execution_count": 13,
   "id": "665525f5-6d32-456f-8937-d1863e26472e",
   "metadata": {},
   "outputs": [
    {
     "name": "stdout",
     "output_type": "stream",
     "text": [
      "['p', 'w', 's', 'k', 'i', 'i', 'l', 'l', 's']\n"
     ]
    }
   ],
   "source": [
    "print(st)"
   ]
  },
  {
   "cell_type": "code",
   "execution_count": 22,
   "id": "2d4f32c1-2e79-405e-8628-f007dadbde40",
   "metadata": {},
   "outputs": [
    {
     "name": "stdin",
     "output_type": "stream",
     "text": [
      " 12344321\n"
     ]
    },
    {
     "name": "stdout",
     "output_type": "stream",
     "text": [
      "palindrome\n"
     ]
    }
   ],
   "source": [
    "#q8)\n",
    "l=[]\n",
    "n=int(input())\n",
    "while n!=0:\n",
    "    l.append(n%10)\n",
    "    n/=10\n",
    "    n=int(n)\n",
    "s=0\n",
    "e=len(l)-1\n",
    "check=True\n",
    "while s<e:\n",
    "    if l[s]!=l[e]:\n",
    "        check=False\n",
    "        break\n",
    "    else:\n",
    "        s+=1\n",
    "        e-=1\n",
    "if check == True:\n",
    "    print(\"palindrome\")\n",
    "else:\n",
    "    print(\"Not Palindrome\")\n",
    "    "
   ]
  },
  {
   "cell_type": "code",
   "execution_count": null,
   "id": "eb105c52-4561-430e-b967-c611a2e0b3e3",
   "metadata": {},
   "outputs": [],
   "source": []
  }
 ],
 "metadata": {
  "kernelspec": {
   "display_name": "Python 3 (ipykernel)",
   "language": "python",
   "name": "python3"
  },
  "language_info": {
   "codemirror_mode": {
    "name": "ipython",
    "version": 3
   },
   "file_extension": ".py",
   "mimetype": "text/x-python",
   "name": "python",
   "nbconvert_exporter": "python",
   "pygments_lexer": "ipython3",
   "version": "3.10.8"
  }
 },
 "nbformat": 4,
 "nbformat_minor": 5
}
